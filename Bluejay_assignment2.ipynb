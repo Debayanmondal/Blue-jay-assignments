{
  "nbformat": 4,
  "nbformat_minor": 0,
  "metadata": {
    "colab": {
      "provenance": [],
      "authorship_tag": "ABX9TyPkcA2NFWAlPJ190Uce+vUA",
      "include_colab_link": true
    },
    "kernelspec": {
      "name": "python3",
      "display_name": "Python 3"
    },
    "language_info": {
      "name": "python"
    }
  },
  "cells": [
    {
      "cell_type": "markdown",
      "metadata": {
        "id": "view-in-github",
        "colab_type": "text"
      },
      "source": [
        "<a href=\"https://colab.research.google.com/github/Debayanmondal/Blue-jay-assignments/blob/main/Bluejay_assignment2.ipynb\" target=\"_parent\"><img src=\"https://colab.research.google.com/assets/colab-badge.svg\" alt=\"Open In Colab\"/></a>"
      ]
    },
    {
      "cell_type": "markdown",
      "source": [
        "# **Importing the Dataset And Libraries**"
      ],
      "metadata": {
        "id": "kX6Ix1jie2rB"
      }
    },
    {
      "cell_type": "code",
      "execution_count": 14,
      "metadata": {
        "id": "wTz3n-KmPLfi"
      },
      "outputs": [],
      "source": [
        "import pandas as pd\n",
        "from datetime import datetime, timedelta\n",
        "\n",
        "data=pd.read_excel('Assignment_Timecard (1).xlsx')\n",
        "\n"
      ]
    },
    {
      "cell_type": "markdown",
      "source": [
        "#**Creating a DataFrame called df**"
      ],
      "metadata": {
        "id": "zeqBJSPsdklU"
      }
    },
    {
      "cell_type": "code",
      "source": [
        "df = pd.DataFrame(data)"
      ],
      "metadata": {
        "id": "uOrASATTdeXP"
      },
      "execution_count": 15,
      "outputs": []
    },
    {
      "cell_type": "markdown",
      "source": [
        "# **Sorting the data by Employee Name and Time**"
      ],
      "metadata": {
        "id": "3VFqJmrWd1F3"
      }
    },
    {
      "cell_type": "code",
      "source": [
        "df['Time'] = pd.to_datetime(df['Time'])\n",
        "df['Time Out'] = pd.to_datetime(df['Time Out'])\n",
        "df.sort_values(by=['Employee Name', 'Time'], inplace=True)"
      ],
      "metadata": {
        "id": "n7vQwJmjdzNK"
      },
      "execution_count": 16,
      "outputs": []
    },
    {
      "cell_type": "markdown",
      "source": [
        "# **Calculating the time difference between shifts**"
      ],
      "metadata": {
        "id": "WFruyvoleJNL"
      }
    },
    {
      "cell_type": "code",
      "source": [
        "df['Time Difference'] = df.groupby('Employee Name')['Time'].shift(-1) - df['Time Out']"
      ],
      "metadata": {
        "id": "YAsrI9loeHkX"
      },
      "execution_count": 17,
      "outputs": []
    },
    {
      "cell_type": "markdown",
      "source": [
        "# **Filter for conditions (less than 10 hours but greater than 1 hour)**"
      ],
      "metadata": {
        "id": "P_l-B5E8efUm"
      }
    },
    {
      "cell_type": "code",
      "source": [
        "filtered_df = df[\n",
        "    (df['Time Difference'] < timedelta(hours=10)) &\n",
        "    (df['Time Difference'] > timedelta(hours=1))\n",
        "]"
      ],
      "metadata": {
        "id": "D9e3LLuPeanL"
      },
      "execution_count": 18,
      "outputs": []
    },
    {
      "cell_type": "markdown",
      "source": [
        "# **Displaying the result**"
      ],
      "metadata": {
        "id": "-beN_FZRerd1"
      }
    },
    {
      "cell_type": "code",
      "source": [
        "result=filtered_df.head(11)[['Employee Name']].drop_duplicates()\n",
        "print(\"Employees who have less than 10 hours of time between shifts but greater than 1 hour\")\n",
        "print(result)"
      ],
      "metadata": {
        "colab": {
          "base_uri": "https://localhost:8080/"
        },
        "id": "8rOrQDQbenZp",
        "outputId": "7e3a4d7d-ce83-4caa-a445-0c9117f1a0b6"
      },
      "execution_count": 19,
      "outputs": [
        {
          "output_type": "stream",
          "name": "stdout",
          "text": [
            "Employees who have less than 10 hours of time between shifts but greater than 1 hour\n",
            "                        Employee Name\n",
            "591                  CEreira Jr, JEse\n",
            "53                   CaMaXaWE, CeghaW\n",
            "276              De Xa Cerda, IgWaciE\n",
            "1036  DeXgadiXXE REdarMe, ChrisMiaW S\n",
            "939              GrACfieXd, CErWeXiAs\n",
            "1074           HaCiXMEW, DeaWMe DevEW\n",
            "301                  MraW, WiXXiaC Ha\n",
            "1161         REdrigAez, GraWdEW AWgeX\n",
            "162                        Xee, XaCar\n"
          ]
        }
      ]
    }
  ]
}