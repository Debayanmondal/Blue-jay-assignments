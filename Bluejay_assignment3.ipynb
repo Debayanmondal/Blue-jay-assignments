{
  "nbformat": 4,
  "nbformat_minor": 0,
  "metadata": {
    "colab": {
      "provenance": [],
      "authorship_tag": "ABX9TyPVwCBQM8AYmCFM1iPUm0K9",
      "include_colab_link": true
    },
    "kernelspec": {
      "name": "python3",
      "display_name": "Python 3"
    },
    "language_info": {
      "name": "python"
    }
  },
  "cells": [
    {
      "cell_type": "markdown",
      "metadata": {
        "id": "view-in-github",
        "colab_type": "text"
      },
      "source": [
        "<a href=\"https://colab.research.google.com/github/Debayanmondal/Blue-jay-assignments/blob/main/Bluejay_assignment3.ipynb\" target=\"_parent\"><img src=\"https://colab.research.google.com/assets/colab-badge.svg\" alt=\"Open In Colab\"/></a>"
      ]
    },
    {
      "cell_type": "markdown",
      "source": [
        "# **Importing Dataset and Libraries**"
      ],
      "metadata": {
        "id": "XpOkyDRtgMTU"
      }
    },
    {
      "cell_type": "code",
      "execution_count": null,
      "metadata": {
        "id": "44mucfRzY5lj"
      },
      "outputs": [],
      "source": [
        "import pandas as pd\n",
        "\n",
        "\n",
        "data=pd.read_excel('Assignment_Timecard (1).xlsx')\n",
        "df = pd.DataFrame(data)"
      ]
    },
    {
      "cell_type": "markdown",
      "source": [
        "# **Converting 'Time' and 'Time Out' to datetime objects for easier calculations**"
      ],
      "metadata": {
        "id": "3BTEQGZ7gZ_u"
      }
    },
    {
      "cell_type": "code",
      "source": [
        "df['Time'] = pd.to_datetime(df['Time'])\n",
        "df['Time Out'] = pd.to_datetime(df['Time Out'])"
      ],
      "metadata": {
        "id": "df6fBhjTgVuf"
      },
      "execution_count": null,
      "outputs": []
    },
    {
      "cell_type": "markdown",
      "source": [
        "# **Calculating the duration of each shift**"
      ],
      "metadata": {
        "id": "3kq7iypQgoCr"
      }
    },
    {
      "cell_type": "code",
      "source": [
        "df['Shift Duration'] = (df['Time Out'] - df['Time']).dt.total_seconds() / 3600"
      ],
      "metadata": {
        "id": "f6ao86nYgkzz"
      },
      "execution_count": null,
      "outputs": []
    },
    {
      "cell_type": "markdown",
      "source": [
        "# **Filtering employees who worked for more than 14 hours in a single shift**"
      ],
      "metadata": {
        "id": "Ut5mH2Cxg79f"
      }
    },
    {
      "cell_type": "code",
      "source": [
        "result = df[df['Shift Duration'] > 14]['Employee Name'].unique()"
      ],
      "metadata": {
        "id": "Oc5Z7hHUg4GU"
      },
      "execution_count": null,
      "outputs": []
    },
    {
      "cell_type": "markdown",
      "source": [
        "# **Displaying the Result**"
      ],
      "metadata": {
        "id": "dMT3PiG-hFZc"
      }
    },
    {
      "cell_type": "code",
      "source": [
        "print(\"Employees who worked for more than 14 hours in a single shift:\")\n",
        "print(result)"
      ],
      "metadata": {
        "colab": {
          "base_uri": "https://localhost:8080/"
        },
        "id": "Qx3FI9tHhDdE",
        "outputId": "ba34c756-4b8c-4fe2-d5c6-fccbad40c3c5"
      },
      "execution_count": null,
      "outputs": [
        {
          "output_type": "stream",
          "name": "stdout",
          "text": [
            "Employees who worked for more than 14 hours in a single shift:\n",
            "['DeXgadiXXE REdarMe, ChrisMiaW S']\n"
          ]
        }
      ]
    }
  ]
}